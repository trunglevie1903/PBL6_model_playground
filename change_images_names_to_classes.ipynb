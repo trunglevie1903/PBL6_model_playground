{
 "cells": [
  {
   "cell_type": "code",
   "execution_count": 24,
   "id": "5d70aed9",
   "metadata": {
    "ExecuteTime": {
     "end_time": "2022-11-07T14:45:02.014571Z",
     "start_time": "2022-11-07T14:45:01.994618Z"
    }
   },
   "outputs": [],
   "source": [
    "import os\n",
    "from PIL import Image"
   ]
  },
  {
   "cell_type": "code",
   "execution_count": 25,
   "id": "0218e2c1",
   "metadata": {
    "ExecuteTime": {
     "end_time": "2022-11-07T14:45:02.204406Z",
     "start_time": "2022-11-07T14:45:02.195425Z"
    }
   },
   "outputs": [],
   "source": [
    "images_old_dir = './images/puts_images_need_to_convert_name_into_class_here/'\n",
    "images_new_dir = './images/converted_images_here/'"
   ]
  },
  {
   "cell_type": "code",
   "execution_count": 26,
   "id": "132277dd",
   "metadata": {
    "ExecuteTime": {
     "end_time": "2022-11-07T14:45:02.394395Z",
     "start_time": "2022-11-07T14:45:02.383425Z"
    }
   },
   "outputs": [],
   "source": [
    "images_class_name = 'co_man_trau'"
   ]
  },
  {
   "cell_type": "code",
   "execution_count": 27,
   "id": "9a3e10ff",
   "metadata": {
    "ExecuteTime": {
     "end_time": "2022-11-07T14:45:02.582062Z",
     "start_time": "2022-11-07T14:45:02.568100Z"
    }
   },
   "outputs": [],
   "source": [
    "def create_dir_if_not_exist(path):\n",
    "    if os.path.isdir(path) == False:\n",
    "        os.mkdir(path)\n",
    "create_dir_if_not_exist(images_old_dir)\n",
    "create_dir_if_not_exist(images_new_dir)"
   ]
  },
  {
   "cell_type": "code",
   "execution_count": 28,
   "id": "f96ba95f",
   "metadata": {
    "ExecuteTime": {
     "end_time": "2022-11-07T14:46:03.614025Z",
     "start_time": "2022-11-07T14:45:02.741717Z"
    }
   },
   "outputs": [
    {
     "name": "stdout",
     "output_type": "stream",
     "text": [
      "z3861862182108_ed9a2b019e6acb77b40935345d11f48d.jpg\n",
      "z3861862182763_a378159546cee79df65189c864f29e0c.jpg\n",
      "z3861862182877_c35a699656b47877142f3af0ada7fbaa.jpg\n",
      "z3861862196857_ceb0e2b29430c5126414371942748cb4.jpg\n",
      "z3861862202211_f6141fe0cc3b06c2def8a87fe4e967e1.jpg\n",
      "z3861862202326_e69cd95ec3ee04d7d3a594478e0fb0be.jpg\n",
      "z3861862205915_f9e42169909771c545280ebad5c80b75.jpg\n",
      "z3861862206691_dd345bbd9636bf9844010155885872cf.jpg\n",
      "z3861862207089_1add7cb639320473081d6f77e2058ba3.jpg\n",
      "z3861862215825_6e3a02eac5c7948f49ee99e37bb5f0eb.jpg\n",
      "z3861862216894_5025f5f66cea8e0c72e431d177677026.jpg\n",
      "z3861862218905_9b3c5bd3dff8b98400311d99a51ce083.jpg\n",
      "z3861862219857_f3d0f303b4bb6d8eb467ddd83ed913a5.jpg\n",
      "z3861862224331_55b0d72ba4af90191e83ad27a8b21a6b.jpg\n",
      "z3861862228178_7a7a9f0f694f1dcc3b072f1811be21c8.jpg\n",
      "z3861862228294_9a2b65f384c65dbfa65315704629944c.jpg\n",
      "z3861862228515_2e88fe0e0a86e01732b07c6bdf796d70.jpg\n",
      "z3861862230995_d0e8101a5e881d48d5f32ee568389a92.jpg\n",
      "z3861862233910_0f900d45c9978b588f2dbff8119c0050.jpg\n",
      "z3861862236458_f400f0fb2259557e0154526e03a3f7a1.jpg\n",
      "z3861862236564_e05ee58b14f45ae31a17bb6b26a3ebfd.jpg\n",
      "z3861862237877_621614f970e6f12364bf78303e4da3e6.jpg\n",
      "z3861862241895_6d1f587e17fbb9e402647a2e3499273f.jpg\n",
      "z3861862244079_dcf31748546ea47ed4c046c46bf2b7f2.jpg\n",
      "z3861862245441_4d38c55e9f27f5894997551e106fa50e.jpg\n",
      "z3861862251581_7a1abeb781631903ed18749e20730d1c.jpg\n",
      "z3861862252606_88046bc7a711cddf7441ad5f0235c5f6.jpg\n",
      "z3861862256424_ee4fd3cba2c021ef5fd9aecab46a9517.jpg\n",
      "z3861862260197_9004f343336d9389dacd971f2c211e6b.jpg\n",
      "z3861862261048_bff605209c4abe0803c310d29ed19fbc.jpg\n",
      "z3861862261310_e673f6f680fbc85a3a5f1bdb3011fa4c.jpg\n",
      "z3861862264015_4fdd425e89d4e9442f396b1aa1074061.jpg\n",
      "z3861862268168_65639258f9e6fffa6e4edd9ac4ff1841.jpg\n",
      "z3861862270097_50f6b5ed91a2faa441dd3e2c8bffac66.jpg\n",
      "z3861862270687_06238a7b4bea29f545bcf49e09627865.jpg\n",
      "z3861862276932_2cd0e130d1d5c1a47f23e7d2422bf52f.jpg\n",
      "z3861862277047_c9e9e02f6eacca43bbf911f12bb8c54f.jpg\n",
      "z3861862279385_2a75c8953a88ae3551a14ac49c3f37d4.jpg\n",
      "z3861862281870_4dee0d6a83f636aa53c2eea663f45ef4.jpg\n",
      "z3861862287272_b5ceb19f54482fcb4d4b550f3c534a8a.jpg\n",
      "z3861862287381_d8dc21bc28746da29499f43d2be57bfa.jpg\n",
      "z3861862287665_28808a1869f5d542b2181886fb8afb23.jpg\n",
      "z3861862289166_8e7a189af702b19fe5f0927ad26aa1c0.jpg\n",
      "z3861862297058_5f143dd59f53cda2558b1ea057185141.jpg\n",
      "z3861862298014_dc4ae0c7e62255b54f8f25cba506d49a.jpg\n"
     ]
    }
   ],
   "source": [
    "for idx, img_full_name in enumerate(os.listdir(images_old_dir)):\n",
    "    try:\n",
    "        print(img_full_name)\n",
    "        img = Image.open(images_old_dir + '/' + img_full_name)\n",
    "        img.save(images_new_dir + '/' + images_class_name + '.' + str(idx+1) + '.png')\n",
    "    except Exception as e:\n",
    "        print(\"Error: \" + repr(e))\n",
    "        pass"
   ]
  },
  {
   "cell_type": "code",
   "execution_count": 29,
   "id": "1e047004",
   "metadata": {
    "ExecuteTime": {
     "end_time": "2022-11-07T14:46:03.661899Z",
     "start_time": "2022-11-07T14:46:03.647934Z"
    }
   },
   "outputs": [
    {
     "name": "stdout",
     "output_type": "stream",
     "text": [
      "Done!\n"
     ]
    }
   ],
   "source": [
    "print('Done!')"
   ]
  },
  {
   "cell_type": "code",
   "execution_count": null,
   "id": "f67d46c0",
   "metadata": {},
   "outputs": [],
   "source": []
  }
 ],
 "metadata": {
  "hide_input": false,
  "kernelspec": {
   "display_name": "Python 3 (ipykernel)",
   "language": "python",
   "name": "python3"
  },
  "language_info": {
   "codemirror_mode": {
    "name": "ipython",
    "version": 3
   },
   "file_extension": ".py",
   "mimetype": "text/x-python",
   "name": "python",
   "nbconvert_exporter": "python",
   "pygments_lexer": "ipython3",
   "version": "3.8.10"
  },
  "toc": {
   "base_numbering": 1,
   "nav_menu": {},
   "number_sections": true,
   "sideBar": true,
   "skip_h1_title": false,
   "title_cell": "Table of Contents",
   "title_sidebar": "Contents",
   "toc_cell": false,
   "toc_position": {},
   "toc_section_display": true,
   "toc_window_display": false
  },
  "varInspector": {
   "cols": {
    "lenName": 16,
    "lenType": 16,
    "lenVar": 40
   },
   "kernels_config": {
    "python": {
     "delete_cmd_postfix": "",
     "delete_cmd_prefix": "del ",
     "library": "var_list.py",
     "varRefreshCmd": "print(var_dic_list())"
    },
    "r": {
     "delete_cmd_postfix": ") ",
     "delete_cmd_prefix": "rm(",
     "library": "var_list.r",
     "varRefreshCmd": "cat(var_dic_list()) "
    }
   },
   "types_to_exclude": [
    "module",
    "function",
    "builtin_function_or_method",
    "instance",
    "_Feature"
   ],
   "window_display": false
  }
 },
 "nbformat": 4,
 "nbformat_minor": 5
}
