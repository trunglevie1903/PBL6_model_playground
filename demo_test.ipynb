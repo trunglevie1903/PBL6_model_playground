{
 "cells": [
  {
   "cell_type": "code",
   "execution_count": 20,
   "id": "1ae4800d",
   "metadata": {
    "ExecuteTime": {
     "end_time": "2022-11-08T14:53:13.444057Z",
     "start_time": "2022-11-08T14:53:13.439127Z"
    }
   },
   "outputs": [],
   "source": [
    "import cv2\n",
    "import os\n",
    "import numpy as np\n",
    "from tensorflow.keras.models import load_model\n",
    "import random\n",
    "import tensorflow as tf\n",
    "tf.get_logger().setLevel('ERROR')\n",
    "from PIL import Image\n",
    "import uuid"
   ]
  },
  {
   "cell_type": "code",
   "execution_count": 21,
   "id": "fcfa05c6",
   "metadata": {
    "ExecuteTime": {
     "end_time": "2022-11-08T14:53:13.450927Z",
     "start_time": "2022-11-08T14:53:13.446046Z"
    }
   },
   "outputs": [],
   "source": [
    "# PREPROCESS: load local image or user-upload image, save to processing folder"
   ]
  },
  {
   "cell_type": "code",
   "execution_count": 22,
   "id": "38147b5b",
   "metadata": {
    "ExecuteTime": {
     "end_time": "2022-11-08T14:53:14.744016Z",
     "start_time": "2022-11-08T14:53:13.452878Z"
    }
   },
   "outputs": [
    {
     "data": {
      "text/plain": [
       "True"
      ]
     },
     "execution_count": 22,
     "metadata": {},
     "output_type": "execute_result"
    }
   ],
   "source": [
    "img_source_dir = './images/train'\n",
    "img_name_list = os.listdir(img_source_dir)\n",
    "random_image_name = random.choice(img_name_list)\n",
    "full_image_path = img_source_dir + '/' + random_image_name\n",
    "target_source_dir = './images/waiting_for_classification'\n",
    "if os.path.isdir(target_source_dir) == False:\n",
    "    os.mkdir(target_source_dir)\n",
    "new_image_path = target_source_dir + '/' + random_image_name\n",
    "cv2.imwrite(new_image_path, cv2.imread(full_image_path))"
   ]
  },
  {
   "cell_type": "code",
   "execution_count": 23,
   "id": "40540a6d",
   "metadata": {
    "ExecuteTime": {
     "end_time": "2022-11-08T14:53:14.750884Z",
     "start_time": "2022-11-08T14:53:14.746980Z"
    }
   },
   "outputs": [],
   "source": [
    "# MAIN_PROCESS: Load saved images and classify to leaves classes"
   ]
  },
  {
   "cell_type": "code",
   "execution_count": 24,
   "id": "99f8bb86",
   "metadata": {
    "ExecuteTime": {
     "end_time": "2022-11-08T14:53:14.764238Z",
     "start_time": "2022-11-08T14:53:14.752837Z"
    }
   },
   "outputs": [],
   "source": [
    "def load_and_preprocess_image(path):\n",
    "#     check if image extension is not 'png', like 'jpg' or something else ... (only 'jpg' tested, others are not)\n",
    "    if (path.split('.')[-1] != 'png'):\n",
    "        print(1)\n",
    "        img = Image.open(path)\n",
    "        img = np.array(img).reshape(img.size[0], img.size[1], 3)\n",
    "    else:\n",
    "        print(2)\n",
    "        img = tf.io.read_file(path)\n",
    "        img = tf.image.decode_png(img, channels=3)\n",
    "    image_gray = cv2.cvtColor(img, cv2.COLOR_BGR2GRAY)\n",
    "    image_blur = cv2.GaussianBlur(image_gray, (3, 3), 0)\n",
    "    image_border_only = cv2.Canny(image=image_blur, threshold1 = 100, threshold2 = 200)\n",
    "    img = tf.image.resize(img, (300, 300))\n",
    "    \n",
    "#     print(img)\n",
    "    return img\n",
    "# load_and_preprocess_image(new_image_path)"
   ]
  },
  {
   "cell_type": "code",
   "execution_count": 25,
   "id": "f36ba0e9",
   "metadata": {
    "ExecuteTime": {
     "end_time": "2022-11-08T14:53:16.867120Z",
     "start_time": "2022-11-08T14:53:14.766195Z"
    }
   },
   "outputs": [
    {
     "name": "stdout",
     "output_type": "stream",
     "text": [
      "./images/waiting_for_classification/IMG_20221025_180229_927.jpg\n",
      "1\n",
      "1/1 [==============================] - 0s 203ms/step\n",
      "[[1.3784766e-17 1.5580496e-13 1.0000000e+00]]\n"
     ]
    }
   ],
   "source": [
    "target_image_path = new_image_path # change 'new_image_path' to saved image's path\n",
    "print(target_image_path) # just to check predicted class\n",
    "\n",
    "image = [load_and_preprocess_image(target_image_path)]\n",
    "DS_test = tf.data.Dataset.from_tensor_slices(image)\n",
    "DS_batch_test = DS_test.batch(batch_size=1, drop_remainder=False)\n",
    "model = load_model('model.h5')\n",
    "result = model.predict(DS_batch_test, batch_size=1, verbose=1, max_queue_size=1)\n",
    "print(result)\n"
   ]
  },
  {
   "cell_type": "code",
   "execution_count": 26,
   "id": "690bc1a5",
   "metadata": {
    "ExecuteTime": {
     "end_time": "2022-11-08T14:53:16.876299Z",
     "start_time": "2022-11-08T14:53:16.868122Z"
    }
   },
   "outputs": [
    {
     "name": "stdout",
     "output_type": "stream",
     "text": [
      "Predicted Result: tia_to\n"
     ]
    }
   ],
   "source": [
    "def load_file(path):\n",
    "    file = open(path, 'r')\n",
    "    content = file.read()\n",
    "    file.close()\n",
    "    return content\n",
    "file_path = 'class_list.txt'\n",
    "content = load_file(file_path)\n",
    "class_list = content.split(' ')\n",
    "print('Predicted Result: ' + class_list[np.argmax(result)])"
   ]
  },
  {
   "cell_type": "code",
   "execution_count": null,
   "id": "176459df",
   "metadata": {},
   "outputs": [],
   "source": []
  }
 ],
 "metadata": {
  "hide_input": false,
  "kernelspec": {
   "display_name": "Python 3 (ipykernel)",
   "language": "python",
   "name": "python3"
  },
  "language_info": {
   "codemirror_mode": {
    "name": "ipython",
    "version": 3
   },
   "file_extension": ".py",
   "mimetype": "text/x-python",
   "name": "python",
   "nbconvert_exporter": "python",
   "pygments_lexer": "ipython3",
   "version": "3.8.10"
  },
  "toc": {
   "base_numbering": 1,
   "nav_menu": {},
   "number_sections": true,
   "sideBar": true,
   "skip_h1_title": false,
   "title_cell": "Table of Contents",
   "title_sidebar": "Contents",
   "toc_cell": false,
   "toc_position": {},
   "toc_section_display": true,
   "toc_window_display": false
  },
  "varInspector": {
   "cols": {
    "lenName": 16,
    "lenType": 16,
    "lenVar": 40
   },
   "kernels_config": {
    "python": {
     "delete_cmd_postfix": "",
     "delete_cmd_prefix": "del ",
     "library": "var_list.py",
     "varRefreshCmd": "print(var_dic_list())"
    },
    "r": {
     "delete_cmd_postfix": ") ",
     "delete_cmd_prefix": "rm(",
     "library": "var_list.r",
     "varRefreshCmd": "cat(var_dic_list()) "
    }
   },
   "types_to_exclude": [
    "module",
    "function",
    "builtin_function_or_method",
    "instance",
    "_Feature"
   ],
   "window_display": false
  }
 },
 "nbformat": 4,
 "nbformat_minor": 5
}
