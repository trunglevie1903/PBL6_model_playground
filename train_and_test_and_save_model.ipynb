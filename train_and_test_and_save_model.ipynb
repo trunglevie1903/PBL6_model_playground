{
 "cells": [
  {
   "cell_type": "code",
   "execution_count": 37,
   "id": "05f926fe",
   "metadata": {
    "ExecuteTime": {
     "end_time": "2022-11-08T01:43:17.377362Z",
     "start_time": "2022-11-08T01:43:17.369383Z"
    }
   },
   "outputs": [],
   "source": [
    "# Start Main Code To Make Model"
   ]
  },
  {
   "cell_type": "code",
   "execution_count": 1,
   "id": "a71a2521",
   "metadata": {
    "ExecuteTime": {
     "end_time": "2022-11-08T13:14:03.376374Z",
     "start_time": "2022-11-08T13:14:03.363120Z"
    }
   },
   "outputs": [],
   "source": [
    "from pickle import dump"
   ]
  },
  {
   "cell_type": "code",
   "execution_count": 2,
   "id": "94981adf",
   "metadata": {
    "ExecuteTime": {
     "end_time": "2022-11-08T13:14:03.602429Z",
     "start_time": "2022-11-08T13:14:03.597606Z"
    }
   },
   "outputs": [],
   "source": [
    "import os\n",
    "os.environ['TF_CPP_MIN_LOG_LEVEL'] = \"2\""
   ]
  },
  {
   "cell_type": "code",
   "execution_count": 3,
   "id": "04526a07",
   "metadata": {
    "ExecuteTime": {
     "end_time": "2022-11-08T13:14:04.249941Z",
     "start_time": "2022-11-08T13:14:04.246007Z"
    }
   },
   "outputs": [],
   "source": [
    "imgs_source_path = './images/border_only_train/'"
   ]
  },
  {
   "cell_type": "code",
   "execution_count": 4,
   "id": "12dc94c4",
   "metadata": {
    "ExecuteTime": {
     "end_time": "2022-11-08T13:14:04.439034Z",
     "start_time": "2022-11-08T13:14:04.434152Z"
    }
   },
   "outputs": [],
   "source": [
    "all_imgs_list = os.listdir(imgs_source_path)"
   ]
  },
  {
   "cell_type": "code",
   "execution_count": 5,
   "id": "8c366f78",
   "metadata": {
    "ExecuteTime": {
     "end_time": "2022-11-08T13:14:04.588459Z",
     "start_time": "2022-11-08T13:14:04.583991Z"
    }
   },
   "outputs": [],
   "source": [
    "num_train_imgs = 20\n",
    "num_test_imgs = 5"
   ]
  },
  {
   "cell_type": "code",
   "execution_count": 15,
   "id": "9f98e615",
   "metadata": {
    "ExecuteTime": {
     "end_time": "2022-11-08T13:15:11.604934Z",
     "start_time": "2022-11-08T13:15:11.599992Z"
    }
   },
   "outputs": [],
   "source": [
    "class_list = list(set([x.split('.')[-3] for x in all_imgs_list]))\n",
    "dump(' '.join(class_list), open('class_list.txt', 'wb'))"
   ]
  },
  {
   "cell_type": "code",
   "execution_count": 16,
   "id": "99e397e6",
   "metadata": {
    "ExecuteTime": {
     "end_time": "2022-11-08T13:15:12.776072Z",
     "start_time": "2022-11-08T13:15:12.772163Z"
    }
   },
   "outputs": [],
   "source": [
    "import random"
   ]
  },
  {
   "cell_type": "code",
   "execution_count": 17,
   "id": "210f3818",
   "metadata": {
    "ExecuteTime": {
     "end_time": "2022-11-08T13:15:12.936003Z",
     "start_time": "2022-11-08T13:15:12.921721Z"
    }
   },
   "outputs": [
    {
     "data": {
      "text/plain": [
       "(['dinh_lang.30.png',\n",
       "  'dinh_lang.23.png',\n",
       "  'dinh_lang.7.png',\n",
       "  'dinh_lang.26.png',\n",
       "  'dinh_lang.8.png',\n",
       "  'dinh_lang.16.png',\n",
       "  'dinh_lang.28.png',\n",
       "  'dinh_lang.25.png',\n",
       "  'dinh_lang.24.png',\n",
       "  'dinh_lang.10.png',\n",
       "  'dinh_lang.21.png',\n",
       "  'dinh_lang.27.png',\n",
       "  'dinh_lang.19.png',\n",
       "  'dinh_lang.13.png',\n",
       "  'dinh_lang.22.png',\n",
       "  'dinh_lang.31.png',\n",
       "  'dinh_lang.32.png',\n",
       "  'dinh_lang.5.png',\n",
       "  'dinh_lang.18.png',\n",
       "  'dinh_lang.9.png',\n",
       "  'tia_to.22.png',\n",
       "  'tia_to.11.png',\n",
       "  'tia_to.3.png',\n",
       "  'tia_to.16.png',\n",
       "  'tia_to.13.png',\n",
       "  'tia_to.8.png',\n",
       "  'tia_to.5.png',\n",
       "  'tia_to.6.png',\n",
       "  'tia_to.21.png',\n",
       "  'tia_to.17.png',\n",
       "  'tia_to.25.png',\n",
       "  'tia_to.19.png',\n",
       "  'tia_to.7.png',\n",
       "  'tia_to.14.png',\n",
       "  'tia_to.23.png',\n",
       "  'tia_to.1.png',\n",
       "  'tia_to.15.png',\n",
       "  'tia_to.18.png',\n",
       "  'tia_to.9.png',\n",
       "  'tia_to.12.png',\n",
       "  'co_man_trau.14.png',\n",
       "  'co_man_trau.27.png',\n",
       "  'co_man_trau.29.png',\n",
       "  'co_man_trau.32.png',\n",
       "  'co_man_trau.8.png',\n",
       "  'co_man_trau.19.png',\n",
       "  'co_man_trau.39.png',\n",
       "  'co_man_trau.13.png',\n",
       "  'co_man_trau.10.png',\n",
       "  'co_man_trau.23.png',\n",
       "  'co_man_trau.12.png',\n",
       "  'co_man_trau.45.png',\n",
       "  'co_man_trau.37.png',\n",
       "  'co_man_trau.3.png',\n",
       "  'co_man_trau.22.png',\n",
       "  'co_man_trau.5.png',\n",
       "  'co_man_trau.1.png',\n",
       "  'co_man_trau.42.png',\n",
       "  'co_man_trau.31.png',\n",
       "  'co_man_trau.17.png'],\n",
       " ['dinh_lang.2.png',\n",
       "  'dinh_lang.29.png',\n",
       "  'dinh_lang.11.png',\n",
       "  'dinh_lang.12.png',\n",
       "  'dinh_lang.3.png',\n",
       "  'tia_to.2.png',\n",
       "  'tia_to.10.png',\n",
       "  'tia_to.4.png',\n",
       "  'tia_to.24.png',\n",
       "  'tia_to.20.png',\n",
       "  'co_man_trau.11.png',\n",
       "  'co_man_trau.36.png',\n",
       "  'co_man_trau.41.png',\n",
       "  'co_man_trau.33.png',\n",
       "  'co_man_trau.44.png'])"
      ]
     },
     "execution_count": 17,
     "metadata": {},
     "output_type": "execute_result"
    }
   ],
   "source": [
    "train_imgs_list = list()\n",
    "test_imgs_list = list()\n",
    "\n",
    "for i in range(len(class_list)):\n",
    "    class_name = class_list[i]\n",
    "    class_all_imgs_list = [x for x in all_imgs_list if x.split('.')[-3] == class_name]\n",
    "    class_train_imgs_list = list()\n",
    "    class_test_imgs_list = list()\n",
    "    for j in range(num_train_imgs):\n",
    "        img_name = random.choice(class_all_imgs_list)\n",
    "        if img_name not in class_train_imgs_list:\n",
    "            class_train_imgs_list.append(img_name)\n",
    "            class_all_imgs_list.remove(img_name)\n",
    "    for j in range(num_test_imgs):\n",
    "        img_name = random.choice(class_all_imgs_list)\n",
    "        if img_name not in class_train_imgs_list and img_name not in class_test_imgs_list:\n",
    "            class_test_imgs_list.append(img_name)\n",
    "            class_all_imgs_list.remove(img_name)\n",
    "    train_imgs_list += class_train_imgs_list\n",
    "    test_imgs_list += class_test_imgs_list\n",
    "# train_imgs_list, test_imgs_list\n"
   ]
  },
  {
   "cell_type": "code",
   "execution_count": 18,
   "id": "88ce6328",
   "metadata": {
    "ExecuteTime": {
     "end_time": "2022-11-08T13:15:13.072342Z",
     "start_time": "2022-11-08T13:15:13.068439Z"
    }
   },
   "outputs": [],
   "source": [
    "img_size = 300"
   ]
  },
  {
   "cell_type": "code",
   "execution_count": 19,
   "id": "db0fb15d",
   "metadata": {
    "ExecuteTime": {
     "end_time": "2022-11-08T13:15:13.204899Z",
     "start_time": "2022-11-08T13:15:13.200997Z"
    }
   },
   "outputs": [],
   "source": [
    "import tensorflow as tf\n",
    "tf.get_logger().setLevel('ERROR')"
   ]
  },
  {
   "cell_type": "code",
   "execution_count": 20,
   "id": "51883742",
   "metadata": {
    "ExecuteTime": {
     "end_time": "2022-11-08T13:15:13.338500Z",
     "start_time": "2022-11-08T13:15:13.333628Z"
    }
   },
   "outputs": [],
   "source": [
    "def preprocess_image(img):\n",
    "    img = tf.image.decode_png(img, channels=3)\n",
    "    img = tf.image.resize(img, [img_size, img_size])\n",
    "    return img"
   ]
  },
  {
   "cell_type": "code",
   "execution_count": 21,
   "id": "9a0ed3e5",
   "metadata": {
    "ExecuteTime": {
     "end_time": "2022-11-08T13:15:13.613943Z",
     "start_time": "2022-11-08T13:15:13.609400Z"
    }
   },
   "outputs": [],
   "source": [
    "def load_and_preprocess_image(path):\n",
    "    img = tf.io.read_file(imgs_source_path + path)\n",
    "    return preprocess_image(img)"
   ]
  },
  {
   "cell_type": "code",
   "execution_count": 22,
   "id": "4f31cc24",
   "metadata": {
    "ExecuteTime": {
     "end_time": "2022-11-08T13:15:13.715156Z",
     "start_time": "2022-11-08T13:15:13.711220Z"
    }
   },
   "outputs": [],
   "source": [
    "map_dic = { class_list[i]: i for i in range(len(class_list)) }"
   ]
  },
  {
   "cell_type": "code",
   "execution_count": 23,
   "id": "8b3fcead",
   "metadata": {
    "ExecuteTime": {
     "end_time": "2022-11-08T13:15:13.833433Z",
     "start_time": "2022-11-08T13:15:13.828250Z"
    }
   },
   "outputs": [],
   "source": [
    "X_train = train_imgs_list\n",
    "X_val = test_imgs_list\n",
    "Y_train = [map_dic[x.split('.')[-3]] for x in X_train]\n",
    "Y_val = [map_dic[x.split('.')[-3]] for x in X_val]"
   ]
  },
  {
   "cell_type": "code",
   "execution_count": 24,
   "id": "9b2246bb",
   "metadata": {
    "ExecuteTime": {
     "end_time": "2022-11-08T13:15:15.482165Z",
     "start_time": "2022-11-08T13:15:13.947637Z"
    }
   },
   "outputs": [],
   "source": [
    "DS_train = tf.data.Dataset.from_tensor_slices((X_train, Y_train))\n",
    "DS_val = tf.data.Dataset.from_tensor_slices((X_val, Y_val))"
   ]
  },
  {
   "cell_type": "code",
   "execution_count": 25,
   "id": "562e6d0f",
   "metadata": {
    "ExecuteTime": {
     "end_time": "2022-11-08T13:15:15.513706Z",
     "start_time": "2022-11-08T13:15:15.507318Z"
    }
   },
   "outputs": [],
   "source": [
    "def load_and_preprocess_from_path_label(path, label):\n",
    "    return load_and_preprocess_image(path), tf.one_hot(label, len(class_list))"
   ]
  },
  {
   "cell_type": "code",
   "execution_count": 26,
   "id": "5bf68cc0",
   "metadata": {
    "ExecuteTime": {
     "end_time": "2022-11-08T13:15:15.818303Z",
     "start_time": "2022-11-08T13:15:15.532180Z"
    }
   },
   "outputs": [],
   "source": [
    "DS_train = DS_train.map(load_and_preprocess_from_path_label)\n",
    "DS_val = DS_val.map(load_and_preprocess_from_path_label)"
   ]
  },
  {
   "cell_type": "code",
   "execution_count": 27,
   "id": "5c8eaa8d",
   "metadata": {
    "ExecuteTime": {
     "end_time": "2022-11-08T13:15:15.859263Z",
     "start_time": "2022-11-08T13:15:15.846906Z"
    }
   },
   "outputs": [
    {
     "data": {
      "text/plain": [
       "(60, 15)"
      ]
     },
     "execution_count": 27,
     "metadata": {},
     "output_type": "execute_result"
    }
   ],
   "source": [
    "len(DS_train), len(DS_val)"
   ]
  },
  {
   "cell_type": "code",
   "execution_count": 28,
   "id": "114aaa86",
   "metadata": {
    "ExecuteTime": {
     "end_time": "2022-11-08T13:15:15.889783Z",
     "start_time": "2022-11-08T13:15:15.885777Z"
    }
   },
   "outputs": [],
   "source": [
    "batch_size=4"
   ]
  },
  {
   "cell_type": "code",
   "execution_count": 29,
   "id": "046f6796",
   "metadata": {
    "ExecuteTime": {
     "end_time": "2022-11-08T13:15:16.339360Z",
     "start_time": "2022-11-08T13:15:15.912040Z"
    }
   },
   "outputs": [],
   "source": [
    "DS_train = DS_train.shuffle(buffer_size=int(len(DS_train) * 0.8))"
   ]
  },
  {
   "cell_type": "code",
   "execution_count": 30,
   "id": "17f3c30e",
   "metadata": {
    "ExecuteTime": {
     "end_time": "2022-11-08T13:15:16.366889Z",
     "start_time": "2022-11-08T13:15:16.356584Z"
    }
   },
   "outputs": [],
   "source": [
    "DS_batch_train = DS_train.batch(batch_size=batch_size, drop_remainder=False)\n",
    "DS_batch_train = DS_batch_train.prefetch(tf.data.AUTOTUNE)\n",
    "DS_batch_val = DS_val.batch(batch_size=batch_size, drop_remainder=False)"
   ]
  },
  {
   "cell_type": "code",
   "execution_count": 31,
   "id": "1b87e80b",
   "metadata": {
    "ExecuteTime": {
     "end_time": "2022-11-08T13:15:17.504605Z",
     "start_time": "2022-11-08T13:15:16.383045Z"
    }
   },
   "outputs": [],
   "source": [
    "from tensorflow.keras.models import Sequential\n",
    "from tensorflow.keras import layers\n",
    "import numpy as np\n",
    "import matplotlib.pyplot as plt"
   ]
  },
  {
   "cell_type": "code",
   "execution_count": 32,
   "id": "fa5ab52b",
   "metadata": {
    "ExecuteTime": {
     "end_time": "2022-11-08T13:15:17.538759Z",
     "start_time": "2022-11-08T13:15:17.522794Z"
    }
   },
   "outputs": [],
   "source": [
    "augmentation = Sequential([\n",
    "#     layers.RandomBrightness(factor=(-0.15, 0.15)),\n",
    "    layers.RandomRotation(factor=(-0.15, 0.15)),\n",
    "    layers.RandomTranslation(height_factor=0.1, width_factor=0.1),\n",
    "    layers.RandomFlip(),\n",
    "    layers.RandomContrast(factor=0.1),\n",
    "], name='augmentation',)"
   ]
  },
  {
   "cell_type": "code",
   "execution_count": 33,
   "id": "9f0d5af0",
   "metadata": {
    "ExecuteTime": {
     "end_time": "2022-11-08T13:15:17.564381Z",
     "start_time": "2022-11-08T13:15:17.559487Z"
    }
   },
   "outputs": [],
   "source": [
    "n_classes = len(class_list)"
   ]
  },
  {
   "cell_type": "code",
   "execution_count": 34,
   "id": "83fdb43e",
   "metadata": {
    "ExecuteTime": {
     "end_time": "2022-11-08T13:15:17.591573Z",
     "start_time": "2022-11-08T13:15:17.583695Z"
    }
   },
   "outputs": [],
   "source": [
    "from tensorflow.keras.applications.efficientnet import EfficientNetB3\n",
    "from tensorflow.keras.applications.vgg19 import VGG19"
   ]
  },
  {
   "cell_type": "code",
   "execution_count": 45,
   "id": "47c0fbe2",
   "metadata": {
    "ExecuteTime": {
     "end_time": "2022-11-08T13:17:15.559536Z",
     "start_time": "2022-11-08T13:17:15.550131Z"
    }
   },
   "outputs": [],
   "source": [
    "def build_model(n_classes):\n",
    "    model = Sequential()\n",
    "    model.add(layers.Input(shape=(img_size, img_size, 3)))\n",
    "    model.add(augmentation)\n",
    "    \n",
    "    base_model = VGG19(include_top=False, weights=None)\n",
    "    base_model.trainable = True\n",
    "    model.add(base_model)\n",
    "    \n",
    "    model.add(layers.GlobalAveragePooling2D())\n",
    "    model.add(layers.BatchNormalization())\n",
    "    model.add(layers.Dropout(0.5))\n",
    "    model.add(layers.Dense(n_classes, activation='softmax'))\n",
    "    \n",
    "    optimizer = tf.keras.optimizers.Adam(learning_rate=1e-4)\n",
    "    model.compile(optimizer=optimizer, loss='categorical_crossentropy', metrics=['accuracy'])\n",
    "    \n",
    "    return model"
   ]
  },
  {
   "cell_type": "code",
   "execution_count": 46,
   "id": "9527138f",
   "metadata": {
    "ExecuteTime": {
     "end_time": "2022-11-08T13:17:15.889918Z",
     "start_time": "2022-11-08T13:17:15.562469Z"
    }
   },
   "outputs": [],
   "source": [
    "model = build_model(n_classes)"
   ]
  },
  {
   "cell_type": "code",
   "execution_count": 47,
   "id": "6418a565",
   "metadata": {
    "ExecuteTime": {
     "end_time": "2022-11-08T13:17:15.915975Z",
     "start_time": "2022-11-08T13:17:15.890894Z"
    }
   },
   "outputs": [
    {
     "name": "stdout",
     "output_type": "stream",
     "text": [
      "Model: \"sequential_1\"\n",
      "_________________________________________________________________\n",
      " Layer (type)                Output Shape              Param #   \n",
      "=================================================================\n",
      " augmentation (Sequential)   (None, 300, 300, 3)       0         \n",
      "                                                                 \n",
      " vgg19 (Functional)          (None, None, None, 512)   20024384  \n",
      "                                                                 \n",
      " global_average_pooling2d_1   (None, 512)              0         \n",
      " (GlobalAveragePooling2D)                                        \n",
      "                                                                 \n",
      " batch_normalization_1 (Batc  (None, 512)              2048      \n",
      " hNormalization)                                                 \n",
      "                                                                 \n",
      " dropout_1 (Dropout)         (None, 512)               0         \n",
      "                                                                 \n",
      " dense_1 (Dense)             (None, 3)                 1539      \n",
      "                                                                 \n",
      "=================================================================\n",
      "Total params: 20,027,971\n",
      "Trainable params: 20,026,947\n",
      "Non-trainable params: 1,024\n",
      "_________________________________________________________________\n"
     ]
    }
   ],
   "source": [
    "model.summary()"
   ]
  },
  {
   "cell_type": "code",
   "execution_count": 48,
   "id": "49f63bd3",
   "metadata": {
    "ExecuteTime": {
     "end_time": "2022-11-08T13:17:15.923789Z",
     "start_time": "2022-11-08T13:17:15.918910Z"
    }
   },
   "outputs": [],
   "source": [
    "epochs = 10"
   ]
  },
  {
   "cell_type": "code",
   "execution_count": 49,
   "id": "f35fbeb7",
   "metadata": {
    "ExecuteTime": {
     "end_time": "2022-11-08T13:17:15.930698Z",
     "start_time": "2022-11-08T13:17:15.925810Z"
    }
   },
   "outputs": [],
   "source": [
    "from tensorflow.keras.callbacks import ReduceLROnPlateau"
   ]
  },
  {
   "cell_type": "code",
   "execution_count": 50,
   "id": "6b81325b",
   "metadata": {
    "ExecuteTime": {
     "end_time": "2022-11-08T13:17:15.936147Z",
     "start_time": "2022-11-08T13:17:15.933624Z"
    }
   },
   "outputs": [],
   "source": [
    "learning_rate_reduction = ReduceLROnPlateau(\n",
    "    monitor='loss',\n",
    "    lr=1e-4,\n",
    "    patience=2,\n",
    "    verbose=1,\n",
    "    factor=0.1,\n",
    "    min_lr=1e-10,\n",
    ")"
   ]
  },
  {
   "cell_type": "code",
   "execution_count": 51,
   "id": "1bba1dd6",
   "metadata": {
    "ExecuteTime": {
     "end_time": "2022-11-08T13:17:15.944967Z",
     "start_time": "2022-11-08T13:17:15.939081Z"
    }
   },
   "outputs": [],
   "source": [
    "callbacks = [learning_rate_reduction]"
   ]
  },
  {
   "cell_type": "code",
   "execution_count": 52,
   "id": "f3f1cfee",
   "metadata": {
    "ExecuteTime": {
     "end_time": "2022-11-08T13:18:25.756459Z",
     "start_time": "2022-11-08T13:17:15.948025Z"
    }
   },
   "outputs": [
    {
     "name": "stdout",
     "output_type": "stream",
     "text": [
      "Epoch 1/10\n",
      "15/15 [==============================] - 16s 492ms/step - loss: 0.8232 - accuracy: 0.7000 - val_loss: 5.5837 - val_accuracy: 0.3333 - lr: 1.0000e-04\n",
      "Epoch 2/10\n",
      "15/15 [==============================] - 6s 403ms/step - loss: 0.7509 - accuracy: 0.6667 - val_loss: 9.2957 - val_accuracy: 0.3333 - lr: 1.0000e-04\n",
      "Epoch 3/10\n",
      "15/15 [==============================] - 6s 398ms/step - loss: 0.7966 - accuracy: 0.6333 - val_loss: 5.8625 - val_accuracy: 0.3333 - lr: 1.0000e-04\n",
      "Epoch 4/10\n",
      "15/15 [==============================] - ETA: 0s - loss: 0.7991 - accuracy: 0.7333\n",
      "Epoch 4: ReduceLROnPlateau reducing learning rate to 9.999999747378752e-06.\n",
      "15/15 [==============================] - 6s 400ms/step - loss: 0.7991 - accuracy: 0.7333 - val_loss: 4.2927 - val_accuracy: 0.3333 - lr: 1.0000e-04\n",
      "Epoch 5/10\n",
      "15/15 [==============================] - 6s 402ms/step - loss: 0.5173 - accuracy: 0.7667 - val_loss: 1.9444 - val_accuracy: 0.6000 - lr: 1.0000e-05\n",
      "Epoch 6/10\n",
      "15/15 [==============================] - 6s 398ms/step - loss: 0.6932 - accuracy: 0.7500 - val_loss: 1.0053 - val_accuracy: 0.6667 - lr: 1.0000e-05\n",
      "Epoch 7/10\n",
      "15/15 [==============================] - ETA: 0s - loss: 0.6771 - accuracy: 0.7833\n",
      "Epoch 7: ReduceLROnPlateau reducing learning rate to 9.999999747378752e-07.\n",
      "15/15 [==============================] - 6s 400ms/step - loss: 0.6771 - accuracy: 0.7833 - val_loss: 0.6017 - val_accuracy: 0.7333 - lr: 1.0000e-05\n",
      "Epoch 8/10\n",
      "15/15 [==============================] - 6s 404ms/step - loss: 0.7295 - accuracy: 0.7167 - val_loss: 0.4924 - val_accuracy: 0.8000 - lr: 1.0000e-06\n",
      "Epoch 9/10\n",
      "15/15 [==============================] - 6s 400ms/step - loss: 0.4075 - accuracy: 0.8333 - val_loss: 0.4213 - val_accuracy: 0.8667 - lr: 1.0000e-06\n",
      "Epoch 10/10\n",
      "15/15 [==============================] - 6s 399ms/step - loss: 0.7590 - accuracy: 0.7833 - val_loss: 0.3714 - val_accuracy: 0.9333 - lr: 1.0000e-06\n"
     ]
    }
   ],
   "source": [
    "try:\n",
    "    hist = model.fit(\n",
    "        DS_batch_train, \n",
    "        epochs=epochs, \n",
    "        validation_data=DS_batch_val, \n",
    "        batch_size=batch_size, \n",
    "        shuffle=True, \n",
    "        verbose=1, \n",
    "        callbacks=callbacks\n",
    "    )\n",
    "except Exception as e:\n",
    "    print(e)\n",
    "    pass"
   ]
  },
  {
   "cell_type": "code",
   "execution_count": 55,
   "id": "a052ddd2",
   "metadata": {
    "ExecuteTime": {
     "end_time": "2022-11-08T13:18:51.385051Z",
     "start_time": "2022-11-08T13:18:50.515921Z"
    }
   },
   "outputs": [
    {
     "name": "stdout",
     "output_type": "stream",
     "text": [
      "co_man_trau.18.png\n",
      "[[0.0258997  0.00717248 0.96692777]]\n",
      "co_man_trau \n",
      "\n",
      "tia_to.11.png\n",
      "[[0.05137907 0.27392885 0.6746921 ]]\n",
      "co_man_trau \n",
      "\n",
      "co_man_trau.13.png\n",
      "[[8.1315773e-07 3.7801308e-06 9.9999535e-01]]\n",
      "co_man_trau \n",
      "\n",
      "tia_to.17.png\n",
      "[[0.0240629  0.00983789 0.96609926]]\n",
      "co_man_trau \n",
      "\n",
      "co_man_trau.42.png\n",
      "[[0.00920909 0.00865828 0.9821326 ]]\n",
      "co_man_trau \n",
      "\n",
      "co_man_trau.1.png\n",
      "[[0.02075404 0.00554025 0.9737057 ]]\n",
      "co_man_trau \n",
      "\n",
      "dinh_lang.1.png\n",
      "[[0.46783414 0.23227789 0.29988793]]\n",
      "dinh_lang \n",
      "\n",
      "dinh_lang.29.png\n",
      "[[0.81291    0.13255462 0.05453538]]\n",
      "dinh_lang \n",
      "\n",
      "dinh_lang.3.png\n",
      "[[0.9073656  0.04386011 0.04877424]]\n",
      "dinh_lang \n",
      "\n",
      "dinh_lang.6.png\n",
      "[[0.54529506 0.07268752 0.3820174 ]]\n",
      "dinh_lang \n",
      "\n"
     ]
    }
   ],
   "source": [
    "for i in range(10):\n",
    "    img_test_path = random.choice(all_imgs_list)\n",
    "    print(img_test_path)\n",
    "    DS_test = tf.data.Dataset.from_tensor_slices([img_test_path])\n",
    "    DS_test = DS_test.map(load_and_preprocess_image)\n",
    "    DS_batch_test = DS_test.batch(batch_size=batch_size, drop_remainder=False)\n",
    "    result = model.predict(DS_batch_test, batch_size=batch_size, max_queue_size=1, verbose=0)\n",
    "    print(result)\n",
    "    print(class_list[np.argmax(result[0])], '\\n')"
   ]
  },
  {
   "cell_type": "code",
   "execution_count": 54,
   "id": "41798bf8",
   "metadata": {
    "ExecuteTime": {
     "end_time": "2022-11-08T13:18:27.675618Z",
     "start_time": "2022-11-08T13:18:27.308826Z"
    }
   },
   "outputs": [],
   "source": [
    "model.save('model.h5')"
   ]
  },
  {
   "cell_type": "code",
   "execution_count": null,
   "id": "9099a411",
   "metadata": {},
   "outputs": [],
   "source": []
  }
 ],
 "metadata": {
  "hide_input": false,
  "kernelspec": {
   "display_name": "Python 3 (ipykernel)",
   "language": "python",
   "name": "python3"
  },
  "language_info": {
   "codemirror_mode": {
    "name": "ipython",
    "version": 3
   },
   "file_extension": ".py",
   "mimetype": "text/x-python",
   "name": "python",
   "nbconvert_exporter": "python",
   "pygments_lexer": "ipython3",
   "version": "3.8.10"
  },
  "toc": {
   "base_numbering": 1,
   "nav_menu": {},
   "number_sections": true,
   "sideBar": true,
   "skip_h1_title": false,
   "title_cell": "Table of Contents",
   "title_sidebar": "Contents",
   "toc_cell": false,
   "toc_position": {},
   "toc_section_display": true,
   "toc_window_display": false
  },
  "varInspector": {
   "cols": {
    "lenName": 16,
    "lenType": 16,
    "lenVar": 40
   },
   "kernels_config": {
    "python": {
     "delete_cmd_postfix": "",
     "delete_cmd_prefix": "del ",
     "library": "var_list.py",
     "varRefreshCmd": "print(var_dic_list())"
    },
    "r": {
     "delete_cmd_postfix": ") ",
     "delete_cmd_prefix": "rm(",
     "library": "var_list.r",
     "varRefreshCmd": "cat(var_dic_list()) "
    }
   },
   "types_to_exclude": [
    "module",
    "function",
    "builtin_function_or_method",
    "instance",
    "_Feature"
   ],
   "window_display": false
  }
 },
 "nbformat": 4,
 "nbformat_minor": 5
}
