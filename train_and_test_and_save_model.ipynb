{
 "cells": [
  {
   "cell_type": "code",
   "execution_count": 1,
   "id": "05f926fe",
   "metadata": {
    "ExecuteTime": {
     "end_time": "2022-11-25T23:52:11.033744Z",
     "start_time": "2022-11-25T23:52:11.030309Z"
    }
   },
   "outputs": [],
   "source": [
    "# Start Main Code To Make Model"
   ]
  },
  {
   "cell_type": "code",
   "execution_count": 2,
   "id": "a71a2521",
   "metadata": {
    "ExecuteTime": {
     "end_time": "2022-11-25T23:52:11.042843Z",
     "start_time": "2022-11-25T23:52:11.034752Z"
    }
   },
   "outputs": [],
   "source": [
    "from pickle import dump"
   ]
  },
  {
   "cell_type": "code",
   "execution_count": 3,
   "id": "94981adf",
   "metadata": {
    "ExecuteTime": {
     "end_time": "2022-11-25T23:52:11.050283Z",
     "start_time": "2022-11-25T23:52:11.045403Z"
    }
   },
   "outputs": [],
   "source": [
    "import os\n",
    "os.environ['TF_CPP_MIN_LOG_LEVEL'] = \"2\""
   ]
  },
  {
   "cell_type": "code",
   "execution_count": 4,
   "id": "04526a07",
   "metadata": {
    "ExecuteTime": {
     "end_time": "2022-11-25T23:52:11.056636Z",
     "start_time": "2022-11-25T23:52:11.052235Z"
    }
   },
   "outputs": [],
   "source": [
    "imgs_source_path = './images/renamed_train/'"
   ]
  },
  {
   "cell_type": "code",
   "execution_count": 5,
   "id": "12dc94c4",
   "metadata": {
    "ExecuteTime": {
     "end_time": "2022-11-25T23:52:11.064538Z",
     "start_time": "2022-11-25T23:52:11.059568Z"
    }
   },
   "outputs": [],
   "source": [
    "all_imgs_list = os.listdir(imgs_source_path)"
   ]
  },
  {
   "cell_type": "code",
   "execution_count": 6,
   "id": "8c366f78",
   "metadata": {
    "ExecuteTime": {
     "end_time": "2022-11-25T23:52:11.071765Z",
     "start_time": "2022-11-25T23:52:11.066885Z"
    }
   },
   "outputs": [],
   "source": [
    "num_train_imgs = 20\n",
    "num_test_imgs = 5"
   ]
  },
  {
   "cell_type": "code",
   "execution_count": 7,
   "id": "9f98e615",
   "metadata": {
    "ExecuteTime": {
     "end_time": "2022-11-25T23:52:11.082562Z",
     "start_time": "2022-11-25T23:52:11.076706Z"
    }
   },
   "outputs": [],
   "source": [
    "class_list = list(set([x.split('.')[-3] for x in all_imgs_list]))\n",
    "# content = '\\t'\n",
    "# for c in class_list:\n",
    "#     content += c\n",
    "#     if c != class_list[-1]:\n",
    "#         content += ' '\n",
    "class_list_path = 'class_list.txt'\n",
    "file = open(class_list_path, 'w')\n",
    "file.write(' '.join(class_list))\n",
    "file.close()"
   ]
  },
  {
   "cell_type": "code",
   "execution_count": 8,
   "id": "99e397e6",
   "metadata": {
    "ExecuteTime": {
     "end_time": "2022-11-25T23:52:11.091423Z",
     "start_time": "2022-11-25T23:52:11.087518Z"
    }
   },
   "outputs": [],
   "source": [
    "import random"
   ]
  },
  {
   "cell_type": "code",
   "execution_count": 9,
   "id": "210f3818",
   "metadata": {
    "ExecuteTime": {
     "end_time": "2022-11-25T23:52:11.101822Z",
     "start_time": "2022-11-25T23:52:11.093374Z"
    }
   },
   "outputs": [],
   "source": [
    "train_imgs_list = list()\n",
    "test_imgs_list = list()\n",
    "\n",
    "for i in range(len(class_list)):\n",
    "    class_name = class_list[i]\n",
    "    class_all_imgs_list = [x for x in all_imgs_list if x.split('.')[-3] == class_name]\n",
    "    class_train_imgs_list = list()\n",
    "    class_test_imgs_list = list()\n",
    "    for j in range(num_train_imgs):\n",
    "        img_name = random.choice(class_all_imgs_list)\n",
    "        if img_name not in class_train_imgs_list:\n",
    "            class_train_imgs_list.append(img_name)\n",
    "            class_all_imgs_list.remove(img_name)\n",
    "    for j in range(num_test_imgs):\n",
    "        img_name = random.choice(class_all_imgs_list)\n",
    "        if img_name not in class_train_imgs_list and img_name not in class_test_imgs_list:\n",
    "            class_test_imgs_list.append(img_name)\n",
    "            class_all_imgs_list.remove(img_name)\n",
    "    train_imgs_list += class_train_imgs_list\n",
    "    test_imgs_list += class_test_imgs_list\n",
    "# train_imgs_list, test_imgs_list\n"
   ]
  },
  {
   "cell_type": "code",
   "execution_count": 10,
   "id": "88ce6328",
   "metadata": {
    "ExecuteTime": {
     "end_time": "2022-11-25T23:52:11.108263Z",
     "start_time": "2022-11-25T23:52:11.103774Z"
    }
   },
   "outputs": [],
   "source": [
    "img_size = 300"
   ]
  },
  {
   "cell_type": "code",
   "execution_count": 11,
   "id": "db0fb15d",
   "metadata": {
    "ExecuteTime": {
     "end_time": "2022-11-25T23:52:25.199879Z",
     "start_time": "2022-11-25T23:52:11.114120Z"
    }
   },
   "outputs": [],
   "source": [
    "import tensorflow as tf\n",
    "tf.get_logger().setLevel('ERROR')"
   ]
  },
  {
   "cell_type": "code",
   "execution_count": 12,
   "id": "51883742",
   "metadata": {
    "ExecuteTime": {
     "end_time": "2022-11-25T23:52:25.205766Z",
     "start_time": "2022-11-25T23:52:25.201831Z"
    }
   },
   "outputs": [],
   "source": [
    "def preprocess_image(img):\n",
    "    img = tf.image.decode_png(img, channels=3)\n",
    "    img = tf.image.resize(img, [img_size, img_size])\n",
    "    return img"
   ]
  },
  {
   "cell_type": "code",
   "execution_count": 13,
   "id": "9a0ed3e5",
   "metadata": {
    "ExecuteTime": {
     "end_time": "2022-11-25T23:52:25.212826Z",
     "start_time": "2022-11-25T23:52:25.206774Z"
    }
   },
   "outputs": [],
   "source": [
    "def load_and_preprocess_image(path):\n",
    "    img = tf.io.read_file(imgs_source_path + path)\n",
    "    return preprocess_image(img)"
   ]
  },
  {
   "cell_type": "code",
   "execution_count": 14,
   "id": "4f31cc24",
   "metadata": {
    "ExecuteTime": {
     "end_time": "2022-11-25T23:52:25.221379Z",
     "start_time": "2022-11-25T23:52:25.216288Z"
    }
   },
   "outputs": [],
   "source": [
    "map_dic = { class_list[i]: i for i in range(len(class_list)) }"
   ]
  },
  {
   "cell_type": "code",
   "execution_count": 15,
   "id": "8b3fcead",
   "metadata": {
    "ExecuteTime": {
     "end_time": "2022-11-25T23:52:25.230264Z",
     "start_time": "2022-11-25T23:52:25.224306Z"
    }
   },
   "outputs": [],
   "source": [
    "X_train = train_imgs_list\n",
    "X_val = test_imgs_list\n",
    "Y_train = [map_dic[x.split('.')[-3]] for x in X_train]\n",
    "Y_val = [map_dic[x.split('.')[-3]] for x in X_val]"
   ]
  },
  {
   "cell_type": "code",
   "execution_count": 16,
   "id": "9b2246bb",
   "metadata": {
    "ExecuteTime": {
     "end_time": "2022-11-25T23:52:30.039028Z",
     "start_time": "2022-11-25T23:52:25.232216Z"
    }
   },
   "outputs": [],
   "source": [
    "DS_train = tf.data.Dataset.from_tensor_slices((X_train, Y_train))\n",
    "DS_val = tf.data.Dataset.from_tensor_slices((X_val, Y_val))"
   ]
  },
  {
   "cell_type": "code",
   "execution_count": 17,
   "id": "562e6d0f",
   "metadata": {
    "ExecuteTime": {
     "end_time": "2022-11-25T23:52:30.047888Z",
     "start_time": "2022-11-25T23:52:30.042027Z"
    }
   },
   "outputs": [],
   "source": [
    "def load_and_preprocess_from_path_label(path, label):\n",
    "    return load_and_preprocess_image(path), tf.one_hot(label, len(class_list))"
   ]
  },
  {
   "cell_type": "code",
   "execution_count": 18,
   "id": "5bf68cc0",
   "metadata": {
    "ExecuteTime": {
     "end_time": "2022-11-25T23:52:30.305422Z",
     "start_time": "2022-11-25T23:52:30.049840Z"
    }
   },
   "outputs": [],
   "source": [
    "DS_train = DS_train.map(load_and_preprocess_from_path_label)\n",
    "DS_val = DS_val.map(load_and_preprocess_from_path_label)"
   ]
  },
  {
   "cell_type": "code",
   "execution_count": 19,
   "id": "5c8eaa8d",
   "metadata": {
    "ExecuteTime": {
     "end_time": "2022-11-25T23:52:30.323820Z",
     "start_time": "2022-11-25T23:52:30.306437Z"
    }
   },
   "outputs": [
    {
     "data": {
      "text/plain": [
       "(60, 15)"
      ]
     },
     "execution_count": 19,
     "metadata": {},
     "output_type": "execute_result"
    }
   ],
   "source": [
    "len(DS_train), len(DS_val)"
   ]
  },
  {
   "cell_type": "code",
   "execution_count": 20,
   "id": "114aaa86",
   "metadata": {
    "ExecuteTime": {
     "end_time": "2022-11-25T23:52:30.330819Z",
     "start_time": "2022-11-25T23:52:30.325802Z"
    }
   },
   "outputs": [],
   "source": [
    "batch_size=4"
   ]
  },
  {
   "cell_type": "code",
   "execution_count": 21,
   "id": "046f6796",
   "metadata": {
    "ExecuteTime": {
     "end_time": "2022-11-25T23:52:30.355923Z",
     "start_time": "2022-11-25T23:52:30.333748Z"
    }
   },
   "outputs": [],
   "source": [
    "DS_train = DS_train.shuffle(buffer_size=int(len(DS_train) * 0.8))"
   ]
  },
  {
   "cell_type": "code",
   "execution_count": 22,
   "id": "17f3c30e",
   "metadata": {
    "ExecuteTime": {
     "end_time": "2022-11-25T23:52:30.372567Z",
     "start_time": "2022-11-25T23:52:30.357919Z"
    }
   },
   "outputs": [],
   "source": [
    "DS_batch_train = DS_train.batch(batch_size=batch_size, drop_remainder=False)\n",
    "DS_batch_train = DS_batch_train.prefetch(tf.data.AUTOTUNE)\n",
    "DS_batch_val = DS_val.batch(batch_size=batch_size, drop_remainder=False)"
   ]
  },
  {
   "cell_type": "code",
   "execution_count": 23,
   "id": "1b87e80b",
   "metadata": {
    "ExecuteTime": {
     "end_time": "2022-11-25T23:52:31.760486Z",
     "start_time": "2022-11-25T23:52:30.374516Z"
    }
   },
   "outputs": [],
   "source": [
    "from tensorflow.keras.models import Sequential\n",
    "from tensorflow.keras import layers\n",
    "import numpy as np\n",
    "import matplotlib.pyplot as plt"
   ]
  },
  {
   "cell_type": "code",
   "execution_count": 24,
   "id": "fa5ab52b",
   "metadata": {
    "ExecuteTime": {
     "end_time": "2022-11-25T23:52:31.781653Z",
     "start_time": "2022-11-25T23:52:31.761490Z"
    }
   },
   "outputs": [],
   "source": [
    "augmentation = Sequential([\n",
    "#     layers.RandomBrightness(factor=(-0.15, 0.15)),\n",
    "    layers.RandomRotation(factor=(-0.15, 0.15)),\n",
    "    layers.RandomTranslation(height_factor=0.1, width_factor=0.1),\n",
    "    layers.RandomFlip(),\n",
    "    layers.RandomContrast(factor=0.1),\n",
    "], name='augmentation',)"
   ]
  },
  {
   "cell_type": "code",
   "execution_count": 25,
   "id": "9f0d5af0",
   "metadata": {
    "ExecuteTime": {
     "end_time": "2022-11-25T23:52:31.789018Z",
     "start_time": "2022-11-25T23:52:31.783606Z"
    }
   },
   "outputs": [],
   "source": [
    "n_classes = len(class_list)"
   ]
  },
  {
   "cell_type": "code",
   "execution_count": 26,
   "id": "83fdb43e",
   "metadata": {
    "ExecuteTime": {
     "end_time": "2022-11-25T23:52:31.798855Z",
     "start_time": "2022-11-25T23:52:31.791988Z"
    }
   },
   "outputs": [],
   "source": [
    "from tensorflow.keras.applications.efficientnet import EfficientNetB3\n",
    "from tensorflow.keras.applications.vgg19 import VGG19"
   ]
  },
  {
   "cell_type": "code",
   "execution_count": 27,
   "id": "47c0fbe2",
   "metadata": {
    "ExecuteTime": {
     "end_time": "2022-11-25T23:52:31.809192Z",
     "start_time": "2022-11-25T23:52:31.800849Z"
    }
   },
   "outputs": [],
   "source": [
    "def build_model(n_classes):\n",
    "    model = Sequential()\n",
    "    model.add(layers.Input(shape=(img_size, img_size, 3)))\n",
    "    model.add(augmentation)\n",
    "    \n",
    "    base_model = VGG19(include_top=False, weights=None)\n",
    "    base_model.trainable = True\n",
    "    model.add(base_model)\n",
    "    \n",
    "    model.add(layers.GlobalAveragePooling2D())\n",
    "    model.add(layers.BatchNormalization())\n",
    "    model.add(layers.Dropout(0.5))\n",
    "    model.add(layers.Dense(n_classes, activation='softmax'))\n",
    "    \n",
    "    optimizer = tf.keras.optimizers.Adam(learning_rate=1e-4)\n",
    "    model.compile(optimizer=optimizer, loss='categorical_crossentropy', metrics=['accuracy'])\n",
    "    \n",
    "    return model"
   ]
  },
  {
   "cell_type": "code",
   "execution_count": 28,
   "id": "9527138f",
   "metadata": {
    "ExecuteTime": {
     "end_time": "2022-11-25T23:52:35.953285Z",
     "start_time": "2022-11-25T23:52:31.810214Z"
    }
   },
   "outputs": [],
   "source": [
    "model = build_model(n_classes)"
   ]
  },
  {
   "cell_type": "code",
   "execution_count": 29,
   "id": "6418a565",
   "metadata": {
    "ExecuteTime": {
     "end_time": "2022-11-25T23:52:35.983216Z",
     "start_time": "2022-11-25T23:52:35.960568Z"
    }
   },
   "outputs": [
    {
     "name": "stdout",
     "output_type": "stream",
     "text": [
      "Model: \"sequential\"\n",
      "_________________________________________________________________\n",
      " Layer (type)                Output Shape              Param #   \n",
      "=================================================================\n",
      " augmentation (Sequential)   (None, 300, 300, 3)       0         \n",
      "                                                                 \n",
      " vgg19 (Functional)          (None, None, None, 512)   20024384  \n",
      "                                                                 \n",
      " global_average_pooling2d (G  (None, 512)              0         \n",
      " lobalAveragePooling2D)                                          \n",
      "                                                                 \n",
      " batch_normalization (BatchN  (None, 512)              2048      \n",
      " ormalization)                                                   \n",
      "                                                                 \n",
      " dropout (Dropout)           (None, 512)               0         \n",
      "                                                                 \n",
      " dense (Dense)               (None, 3)                 1539      \n",
      "                                                                 \n",
      "=================================================================\n",
      "Total params: 20,027,971\n",
      "Trainable params: 20,026,947\n",
      "Non-trainable params: 1,024\n",
      "_________________________________________________________________\n"
     ]
    }
   ],
   "source": [
    "model.summary()"
   ]
  },
  {
   "cell_type": "code",
   "execution_count": 30,
   "id": "49f63bd3",
   "metadata": {
    "ExecuteTime": {
     "end_time": "2022-11-25T23:52:35.989800Z",
     "start_time": "2022-11-25T23:52:35.984785Z"
    }
   },
   "outputs": [],
   "source": [
    "epochs = 10"
   ]
  },
  {
   "cell_type": "code",
   "execution_count": 31,
   "id": "f35fbeb7",
   "metadata": {
    "ExecuteTime": {
     "end_time": "2022-11-25T23:52:35.996673Z",
     "start_time": "2022-11-25T23:52:35.992731Z"
    }
   },
   "outputs": [],
   "source": [
    "from tensorflow.keras.callbacks import ReduceLROnPlateau"
   ]
  },
  {
   "cell_type": "code",
   "execution_count": 32,
   "id": "6b81325b",
   "metadata": {
    "ExecuteTime": {
     "end_time": "2022-11-25T23:52:36.004040Z",
     "start_time": "2022-11-25T23:52:35.999604Z"
    }
   },
   "outputs": [],
   "source": [
    "learning_rate_reduction = ReduceLROnPlateau(\n",
    "    monitor='loss',\n",
    "    lr=1e-4,\n",
    "    patience=2,\n",
    "    verbose=1,\n",
    "    factor=0.1,\n",
    "    min_lr=1e-10,\n",
    ")"
   ]
  },
  {
   "cell_type": "code",
   "execution_count": 33,
   "id": "1bba1dd6",
   "metadata": {
    "ExecuteTime": {
     "end_time": "2022-11-25T23:52:36.010920Z",
     "start_time": "2022-11-25T23:52:36.007014Z"
    }
   },
   "outputs": [],
   "source": [
    "callbacks = [learning_rate_reduction]"
   ]
  },
  {
   "cell_type": "code",
   "execution_count": 34,
   "id": "f3f1cfee",
   "metadata": {
    "ExecuteTime": {
     "end_time": "2022-11-25T23:55:27.825823Z",
     "start_time": "2022-11-25T23:52:36.012871Z"
    }
   },
   "outputs": [
    {
     "name": "stdout",
     "output_type": "stream",
     "text": [
      "Epoch 1/10\n",
      "15/15 [==============================] - 51s 660ms/step - loss: 1.2355 - accuracy: 0.4833 - val_loss: 3.3946 - val_accuracy: 0.3333 - lr: 1.0000e-04\n",
      "Epoch 2/10\n",
      "15/15 [==============================] - 13s 505ms/step - loss: 0.6093 - accuracy: 0.7667 - val_loss: 11.0669 - val_accuracy: 0.3333 - lr: 1.0000e-04\n",
      "Epoch 3/10\n",
      "15/15 [==============================] - 13s 510ms/step - loss: 0.6391 - accuracy: 0.7500 - val_loss: 5.3125 - val_accuracy: 0.3333 - lr: 1.0000e-04\n",
      "Epoch 4/10\n",
      "15/15 [==============================] - ETA: 0s - loss: 0.6110 - accuracy: 0.7833\n",
      "Epoch 4: ReduceLROnPlateau reducing learning rate to 9.999999747378752e-06.\n",
      "15/15 [==============================] - 13s 528ms/step - loss: 0.6110 - accuracy: 0.7833 - val_loss: 15.9210 - val_accuracy: 0.4000 - lr: 1.0000e-04\n",
      "Epoch 5/10\n",
      "15/15 [==============================] - 14s 509ms/step - loss: 0.6654 - accuracy: 0.7167 - val_loss: 5.4895 - val_accuracy: 0.6000 - lr: 1.0000e-05\n",
      "Epoch 6/10\n",
      "15/15 [==============================] - 13s 514ms/step - loss: 0.5239 - accuracy: 0.8333 - val_loss: 1.5742 - val_accuracy: 0.6000 - lr: 1.0000e-05\n",
      "Epoch 7/10\n",
      "15/15 [==============================] - 13s 506ms/step - loss: 0.3920 - accuracy: 0.9000 - val_loss: 0.6181 - val_accuracy: 0.7333 - lr: 1.0000e-05\n",
      "Epoch 8/10\n",
      "15/15 [==============================] - 14s 503ms/step - loss: 0.7178 - accuracy: 0.7500 - val_loss: 0.3986 - val_accuracy: 0.7333 - lr: 1.0000e-05\n",
      "Epoch 9/10\n",
      "15/15 [==============================] - ETA: 0s - loss: 0.4916 - accuracy: 0.8667\n",
      "Epoch 9: ReduceLROnPlateau reducing learning rate to 9.999999747378752e-07.\n",
      "15/15 [==============================] - 14s 511ms/step - loss: 0.4916 - accuracy: 0.8667 - val_loss: 0.5079 - val_accuracy: 0.7333 - lr: 1.0000e-05\n",
      "Epoch 10/10\n",
      "15/15 [==============================] - 13s 521ms/step - loss: 0.4416 - accuracy: 0.8333 - val_loss: 0.3592 - val_accuracy: 0.8000 - lr: 1.0000e-06\n"
     ]
    }
   ],
   "source": [
    "try:\n",
    "    hist = model.fit(\n",
    "        DS_batch_train, \n",
    "        epochs=epochs, \n",
    "        validation_data=DS_batch_val, \n",
    "        batch_size=batch_size, \n",
    "        shuffle=True, \n",
    "        verbose=1, \n",
    "        callbacks=callbacks\n",
    "    )\n",
    "except Exception as e:\n",
    "    print(e)\n",
    "    pass"
   ]
  },
  {
   "cell_type": "code",
   "execution_count": 37,
   "id": "a052ddd2",
   "metadata": {
    "ExecuteTime": {
     "end_time": "2022-11-26T00:00:22.990912Z",
     "start_time": "2022-11-26T00:00:16.040066Z"
    }
   },
   "outputs": [
    {
     "name": "stdout",
     "output_type": "stream",
     "text": [
      "dinh_lang.32.png\n",
      "[[1.1411355e-03 8.8321010e-04 9.9797565e-01]]\n",
      "dinh_lang \n",
      "\n",
      "dinh_lang.19.png\n",
      "[[1.6716119e-03 9.4919628e-04 9.9737918e-01]]\n",
      "dinh_lang \n",
      "\n",
      "dinh_lang.12.png\n",
      "[[0.00107792 0.00309768 0.99582446]]\n",
      "dinh_lang \n",
      "\n",
      "tia_to.22.png\n",
      "[[2.2989327e-04 9.9513853e-01 4.6315594e-03]]\n",
      "tia_to \n",
      "\n",
      "dinh_lang.26.png\n",
      "[[7.4383128e-04 2.0071524e-03 9.9724895e-01]]\n",
      "dinh_lang \n",
      "\n",
      "co_man_trau.14.png\n",
      "[[0.9168083  0.01514977 0.06804196]]\n",
      "co_man_trau \n",
      "\n",
      "co_man_trau.9.png\n",
      "[[0.72476953 0.0145345  0.26069593]]\n",
      "co_man_trau \n",
      "\n",
      "dinh_lang.22.png\n",
      "[[0.00123198 0.00103496 0.997733  ]]\n",
      "dinh_lang \n",
      "\n",
      "co_man_trau.38.png\n",
      "[[0.23076989 0.02317927 0.7460509 ]]\n",
      "dinh_lang \n",
      "\n",
      "tia_to.8.png\n",
      "[[7.192879e-05 9.993556e-01 5.723943e-04]]\n",
      "tia_to \n",
      "\n"
     ]
    }
   ],
   "source": [
    "for i in range(10):\n",
    "    img_test_path = random.choice(all_imgs_list)\n",
    "    print(img_test_path)\n",
    "    DS_test = tf.data.Dataset.from_tensor_slices([img_test_path])\n",
    "    DS_test = DS_test.map(load_and_preprocess_image)\n",
    "    DS_batch_test = DS_test.batch(batch_size=batch_size, drop_remainder=False)\n",
    "    result = model.predict(DS_batch_test, batch_size=batch_size, max_queue_size=1, verbose=0)\n",
    "    print(result)\n",
    "    print(class_list[np.argmax(result[0])], '\\n')"
   ]
  },
  {
   "cell_type": "code",
   "execution_count": 36,
   "id": "41798bf8",
   "metadata": {
    "ExecuteTime": {
     "end_time": "2022-11-25T23:55:38.277123Z",
     "start_time": "2022-11-25T23:55:37.789440Z"
    }
   },
   "outputs": [],
   "source": [
    "model.save('model.h5')"
   ]
  },
  {
   "cell_type": "code",
   "execution_count": null,
   "id": "9099a411",
   "metadata": {},
   "outputs": [],
   "source": []
  }
 ],
 "metadata": {
  "hide_input": false,
  "kernelspec": {
   "display_name": "Python 3 (ipykernel)",
   "language": "python",
   "name": "python3"
  },
  "language_info": {
   "codemirror_mode": {
    "name": "ipython",
    "version": 3
   },
   "file_extension": ".py",
   "mimetype": "text/x-python",
   "name": "python",
   "nbconvert_exporter": "python",
   "pygments_lexer": "ipython3",
   "version": "3.8.10"
  },
  "toc": {
   "base_numbering": 1,
   "nav_menu": {},
   "number_sections": true,
   "sideBar": true,
   "skip_h1_title": false,
   "title_cell": "Table of Contents",
   "title_sidebar": "Contents",
   "toc_cell": false,
   "toc_position": {},
   "toc_section_display": true,
   "toc_window_display": false
  },
  "varInspector": {
   "cols": {
    "lenName": 16,
    "lenType": 16,
    "lenVar": 40
   },
   "kernels_config": {
    "python": {
     "delete_cmd_postfix": "",
     "delete_cmd_prefix": "del ",
     "library": "var_list.py",
     "varRefreshCmd": "print(var_dic_list())"
    },
    "r": {
     "delete_cmd_postfix": ") ",
     "delete_cmd_prefix": "rm(",
     "library": "var_list.r",
     "varRefreshCmd": "cat(var_dic_list()) "
    }
   },
   "types_to_exclude": [
    "module",
    "function",
    "builtin_function_or_method",
    "instance",
    "_Feature"
   ],
   "window_display": false
  }
 },
 "nbformat": 4,
 "nbformat_minor": 5
}
