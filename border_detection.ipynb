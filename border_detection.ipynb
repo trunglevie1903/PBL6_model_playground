{
 "cells": [
  {
   "cell_type": "code",
   "execution_count": null,
   "id": "960efb99",
   "metadata": {},
   "outputs": [],
   "source": [
    "# Example code"
   ]
  },
  {
   "cell_type": "code",
   "execution_count": 3,
   "id": "143d0bf3",
   "metadata": {
    "ExecuteTime": {
     "end_time": "2022-11-07T23:36:22.486674Z",
     "start_time": "2022-11-07T23:36:18.573459Z"
    }
   },
   "outputs": [],
   "source": [
    "# import cv2\n",
    " \n",
    "# # Read the original image\n",
    "\n",
    "# new_img_size = (300, 300)\n",
    "# img = cv2.resize(img, new_img_size)\n",
    "\n",
    "# # Display original image\n",
    "# # cv2.imshow('Original', cv2.resize(img, new_img_size))\n",
    "# cv2.waitKey(0)\n",
    " \n",
    "# # Convert to graycsale\n",
    "# img_gray = cv2.cvtColor(img, cv2.COLOR_BGR2GRAY)\n",
    "# # Blur the image for better edge detection\n",
    "# img_blur = cv2.GaussianBlur(img_gray, (3,3), 0) \n",
    " \n",
    "# # # Sobel Edge Detection\n",
    "# # sobelx = cv2.Sobel(src=img_blur, ddepth=cv2.CV_64F, dx=1, dy=0, ksize=5) # Sobel Edge Detection on the X axis\n",
    "# # sobely = cv2.Sobel(src=img_blur, ddepth=cv2.CV_64F, dx=0, dy=1, ksize=5) # Sobel Edge Detection on the Y axis\n",
    "# # sobelxy = cv2.Sobel(src=img_blur, ddepth=cv2.CV_64F, dx=1, dy=1, ksize=5) # Combined X and Y Sobel Edge Detection\n",
    "# # # Display Sobel Edge Detection Images\n",
    "# # cv2.imshow('Sobel X', cv2.resize(sobelx, new_img_size))\n",
    "# # cv2.waitKey(0)\n",
    "# # cv2.imshow('Sobel Y', cv2.resize(sobely, new_img_size))\n",
    "# # cv2.waitKey(0)\n",
    "# # cv2.imshow('Sobel X Y using Sobel() function', cv2.resize(sobelxy, new_img_size))\n",
    "# # cv2.waitKey(0)\n",
    " \n",
    "# # Canny Edge Detection\n",
    "# edges = cv2.Canny(image=img_blur, threshold1=50, threshold2=100) # Canny Edge Detection\n",
    "# # Display Canny Edge Detection Image\n",
    "# cv2.imshow('Canny Edge Detection', cv2.resize(edges, (900, 900)))\n",
    "# cv2.waitKey(0)\n",
    " \n",
    "# cv2.destroyAllWindows()"
   ]
  },
  {
   "cell_type": "code",
   "execution_count": 4,
   "id": "4c91cfc8",
   "metadata": {
    "ExecuteTime": {
     "end_time": "2022-11-07T23:36:23.328988Z",
     "start_time": "2022-11-07T23:36:23.321177Z"
    }
   },
   "outputs": [
    {
     "data": {
      "text/plain": [
       "(300, 300)"
      ]
     },
     "execution_count": 4,
     "metadata": {},
     "output_type": "execute_result"
    }
   ],
   "source": [
    "# edges.shape"
   ]
  },
  {
   "cell_type": "code",
   "execution_count": 8,
   "id": "d9ae55d8",
   "metadata": {
    "ExecuteTime": {
     "end_time": "2022-11-08T01:19:57.452494Z",
     "start_time": "2022-11-08T01:19:57.442521Z"
    }
   },
   "outputs": [],
   "source": [
    "# import numpy as np\n",
    "# import cv2\n",
    "# import os\n",
    "# renamed_images_dir = './images/renamed_train'\n",
    "# border_extracted_dir = './images/border_only_train'\n",
    "# def create_dir_if_not_exists(path):\n",
    "#     if os.path.isdir(path) == False:\n",
    "#         os.mkdir(path)\n",
    "# create_dir_if_not_exists(renamed_images_dir)\n",
    "# create_dir_if_not_exists(border_extracted_dir)\n",
    "# for img_name in os.listdir(renamed_images_dir):\n",
    "#     old_img_path = renamed_images_dir + '/' + img_name\n",
    "#     new_img_path = border_extracted_dir + '/' + img_name\n",
    "#     image = cv2.imread(old_img_path)\n",
    "#     image = cv2.resize(image, (300, 300))\n",
    "#     image_gray = cv2.cvtColor(image, cv2.COLOR_BGR2GRAY)\n",
    "#     image_blur = cv2.GaussianBlur(image_gray, (3, 3), 0)\n",
    "#     image_border = cv2.Canny(image=image_blur, threshold1 = 100, threshold2 = 200)\n",
    "#     cv2.imwrite(new_img_path, image_border)\n",
    "# print('Done!')"
   ]
  },
  {
   "cell_type": "code",
   "execution_count": 14,
   "id": "06e7a55d",
   "metadata": {
    "ExecuteTime": {
     "end_time": "2022-11-08T13:34:41.604700Z",
     "start_time": "2022-11-08T13:34:35.063105Z"
    }
   },
   "outputs": [
    {
     "name": "stdout",
     "output_type": "stream",
     "text": [
      "Done!\n"
     ]
    }
   ],
   "source": [
    "import numpy as np\n",
    "import cv2\n",
    "import os\n",
    "source_image_dir = './images/test_border_extraction'\n",
    "border_extracted_dir = './images/border_only_train'\n",
    "    \n",
    "def create_dir_if_not_exists(path):\n",
    "    if os.path.isdir(path) == False:\n",
    "        os.mkdir(path)\n",
    "create_dir_if_not_exists(source_image_dir)\n",
    "create_dir_if_not_exists(border_extracted_dir)\n",
    "for img_name in os.listdir(source_image_dir):\n",
    "#     print(img_name)\n",
    "    old_img_path = source_image_dir + '/' + img_name\n",
    "    new_img_path = border_extracted_dir + '/' + img_name\n",
    "    image = cv2.imread(old_img_path)\n",
    "    image = cv2.resize(image, (300, 300))\n",
    "    image_gray = cv2.cvtColor(image, cv2.COLOR_BGR2GRAY)\n",
    "    image_blur = cv2.GaussianBlur(image_gray, (3, 3), 0)\n",
    "    image_border = cv2.Canny(image=image_blur, threshold1 = 100, threshold2 = 200)\n",
    "    \n",
    "    winname = 'test'\n",
    "    cv2.namedWindow(winname)\n",
    "    cv2.moveWindow(winname, 40, 30)\n",
    "    cv2.imshow(winname, image)\n",
    "    if cv2.waitKey(0) & 0xFF == ord('q'):\n",
    "        break\n",
    "    cv2.imshow(winname, image_border),\n",
    "    if cv2.waitKey(0) & 0xFF == ord('q'):\n",
    "        break\n",
    "cv2.destroyAllWindows()\n",
    "#     cv2.imwrite(new_img_path, image_border)\n",
    "print('Done!')"
   ]
  },
  {
   "cell_type": "code",
   "execution_count": 17,
   "id": "db3c827e",
   "metadata": {
    "ExecuteTime": {
     "end_time": "2022-11-08T01:26:41.135328Z",
     "start_time": "2022-11-08T01:26:36.719260Z"
    }
   },
   "outputs": [],
   "source": [
    "# import cv2\n",
    "# img_name = 'z3861862241895_6d1f587e17fbb9e402647a2e3499273f.jpg'\n",
    "# img = cv2.imread('./images/train/' + img_name)\n",
    "# # z3861862241895_6d1f587e17fbb9e402647a2e3499273f.jpg\n",
    "# # IMG_20221025_173212_633.jpg\n",
    "# img = cv2.resize(img, (300, 300))\n",
    "# img_gray = cv2.cvtColor(img, cv2.COLOR_BGR2GRAY)\n",
    "# res, thres = cv2.threshold(img_gray, 100, 255, cv2.THRESH_BINARY_INV)\n",
    "# winname = 'test'\n",
    "# cv2.namedWindow(winname)\n",
    "# cv2.moveWindow(winname, 40, 30)\n",
    "# cv2.imshow(winname, thres)\n",
    "# cv2.waitKey(0)\n",
    "# cv2.destroyAllWindows()"
   ]
  },
  {
   "cell_type": "code",
   "execution_count": 16,
   "id": "34c18b4a",
   "metadata": {
    "ExecuteTime": {
     "end_time": "2022-11-08T01:52:11.910652Z",
     "start_time": "2022-11-08T01:52:11.904668Z"
    }
   },
   "outputs": [],
   "source": [
    "# import os\n",
    "# import cv2\n",
    "# import numpy as np\n",
    "# renamed_images_dir = './images/renamed_train'\n",
    "# border_extracted_dir = './images/border_only_train'\n",
    "# def create_dir_if_not_exists(path):\n",
    "#     if os.path.isdir(path) == False:\n",
    "#         os.mkdir(path)\n",
    "# create_dir_if_not_exists(renamed_images_dir)\n",
    "# create_dir_if_not_exists(border_extracted_dir)\n",
    "# img_new_size = (300, 300)\n",
    "# # i = 0\n",
    "# for img_name in os.listdir(renamed_images_dir):\n",
    "# #     i += 1\n",
    "# #     if i >= 50:\n",
    "# #         break\n",
    "#     old_img_path = renamed_images_dir + '/' + img_name\n",
    "#     new_img_path = border_extracted_dir + '/' + img_name\n",
    "#     image = cv2.imread(old_img_path)\n",
    "#     image = cv2.resize(image, img_new_size)\n",
    "#     image_gray = cv2.cvtColor(image, cv2.COLOR_BGR2GRAY)\n",
    "#     _, thresh = cv2.threshold(image_gray, 100, 255, cv2.THRESH_BINARY)\n",
    "#     winname = 'test'\n",
    "#     cv2.namedWindow(winname)\n",
    "#     cv2.moveWindow(winname, 40, 30)\n",
    "# #     cv2.imshow(winname, thresh)\n",
    "# #     cv2.waitKey(0)\n",
    "#     image_blur = cv2.GaussianBlur(image_gray, (3, 3), 0)\n",
    "#     image_border = cv2.Canny(image=image_blur, threshold1 = 150, threshold2 = 200)\n",
    "# #     cv2.imshow(winname, image_border)\n",
    "# #     cv2.imwrite(new_img_path, image_border)\n",
    "#     cv2.imshow(winname, np.concatenate((thresh, image_border), axis=1))\n",
    "#     if cv2.waitKey(0) & 0xFF == ord('q'):\n",
    "#         break\n",
    "# cv2.destroyAllWindows()"
   ]
  },
  {
   "cell_type": "code",
   "execution_count": null,
   "id": "65f4b059",
   "metadata": {},
   "outputs": [],
   "source": []
  },
  {
   "cell_type": "code",
   "execution_count": null,
   "id": "4069adca",
   "metadata": {
    "ExecuteTime": {
     "end_time": "2022-11-08T01:15:24.986483Z",
     "start_time": "2022-11-08T01:14:34.192517Z"
    }
   },
   "outputs": [],
   "source": []
  },
  {
   "cell_type": "code",
   "execution_count": null,
   "id": "5eb56590",
   "metadata": {
    "ExecuteTime": {
     "end_time": "2022-11-08T01:15:25.033363Z",
     "start_time": "2022-11-08T01:15:25.009426Z"
    }
   },
   "outputs": [],
   "source": []
  },
  {
   "cell_type": "code",
   "execution_count": null,
   "id": "066cabf3",
   "metadata": {},
   "outputs": [],
   "source": []
  }
 ],
 "metadata": {
  "hide_input": false,
  "kernelspec": {
   "display_name": "Python 3 (ipykernel)",
   "language": "python",
   "name": "python3"
  },
  "language_info": {
   "codemirror_mode": {
    "name": "ipython",
    "version": 3
   },
   "file_extension": ".py",
   "mimetype": "text/x-python",
   "name": "python",
   "nbconvert_exporter": "python",
   "pygments_lexer": "ipython3",
   "version": "3.8.10"
  },
  "toc": {
   "base_numbering": 1,
   "nav_menu": {},
   "number_sections": true,
   "sideBar": true,
   "skip_h1_title": false,
   "title_cell": "Table of Contents",
   "title_sidebar": "Contents",
   "toc_cell": false,
   "toc_position": {},
   "toc_section_display": true,
   "toc_window_display": false
  },
  "varInspector": {
   "cols": {
    "lenName": 16,
    "lenType": 16,
    "lenVar": 40
   },
   "kernels_config": {
    "python": {
     "delete_cmd_postfix": "",
     "delete_cmd_prefix": "del ",
     "library": "var_list.py",
     "varRefreshCmd": "print(var_dic_list())"
    },
    "r": {
     "delete_cmd_postfix": ") ",
     "delete_cmd_prefix": "rm(",
     "library": "var_list.r",
     "varRefreshCmd": "cat(var_dic_list()) "
    }
   },
   "types_to_exclude": [
    "module",
    "function",
    "builtin_function_or_method",
    "instance",
    "_Feature"
   ],
   "window_display": false
  }
 },
 "nbformat": 4,
 "nbformat_minor": 5
}
