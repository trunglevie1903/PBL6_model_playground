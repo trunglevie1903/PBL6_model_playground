{
 "cells": [
  {
   "cell_type": "code",
   "execution_count": 7,
   "id": "a2e7d53d",
   "metadata": {
    "ExecuteTime": {
     "end_time": "2022-11-07T23:57:07.026130Z",
     "start_time": "2022-11-07T23:57:07.022221Z"
    }
   },
   "outputs": [],
   "source": [
    "import numpy as np\n",
    "import cv2"
   ]
  },
  {
   "cell_type": "code",
   "execution_count": 12,
   "id": "8eae31f8",
   "metadata": {
    "ExecuteTime": {
     "end_time": "2022-11-07T23:57:45.725080Z",
     "start_time": "2022-11-07T23:57:45.664057Z"
    }
   },
   "outputs": [],
   "source": [
    "img_name = 'z3861862241895_6d1f587e17fbb9e402647a2e3499273f.jpg'\n",
    "img = cv2.imread('./images/train/' + img_name)\n",
    "# z3861862241895_6d1f587e17fbb9e402647a2e3499273f.jpg\n",
    "# IMG_20221025_173212_633.jpg"
   ]
  },
  {
   "cell_type": "code",
   "execution_count": 13,
   "id": "59322ecd",
   "metadata": {
    "ExecuteTime": {
     "end_time": "2022-11-07T23:57:45.865543Z",
     "start_time": "2022-11-07T23:57:45.861638Z"
    }
   },
   "outputs": [],
   "source": [
    "new_img_size = (300, 300)\n",
    "image = cv2.resize(img, new_img_size)"
   ]
  },
  {
   "cell_type": "code",
   "execution_count": 16,
   "id": "c35ba9c1",
   "metadata": {
    "ExecuteTime": {
     "end_time": "2022-11-07T23:58:01.389925Z",
     "start_time": "2022-11-07T23:58:01.385046Z"
    }
   },
   "outputs": [],
   "source": [
    "boundaries = [\n",
    "    ([15, 15, 100], [50, 50, 200]),\n",
    "    ([50, 5, 5], [220, 50, 50]),\n",
    "    ([0, 0, 50], [50, 50, 255]),\n",
    "    ([100, 80, 60], (150, 150, 150))\n",
    "]"
   ]
  },
  {
   "cell_type": "code",
   "execution_count": 17,
   "id": "4fb39ea3",
   "metadata": {
    "ExecuteTime": {
     "end_time": "2022-11-07T23:58:12.001489Z",
     "start_time": "2022-11-07T23:58:01.605606Z"
    }
   },
   "outputs": [],
   "source": [
    "# loop over the boundaries\n",
    "for (lower, upper) in boundaries:\n",
    "\t# create NumPy arrays from the boundaries\n",
    "\tlower = np.array(lower, dtype = \"uint8\")\n",
    "\tupper = np.array(upper, dtype = \"uint8\")\n",
    "\t# find the colors within the specified boundaries and apply\n",
    "\t# the mask\n",
    "\tmask = cv2.inRange(image, lower, upper)\n",
    "\toutput = cv2.bitwise_and(image, image, mask = mask)\n",
    "\t# show the images\n",
    "\tcv2.imshow(\"images\", np.hstack([image, output]))\n",
    "\tcv2.waitKey(0)"
   ]
  },
  {
   "cell_type": "code",
   "execution_count": null,
   "id": "1849af61",
   "metadata": {},
   "outputs": [],
   "source": []
  }
 ],
 "metadata": {
  "hide_input": false,
  "kernelspec": {
   "display_name": "Python 3 (ipykernel)",
   "language": "python",
   "name": "python3"
  },
  "language_info": {
   "codemirror_mode": {
    "name": "ipython",
    "version": 3
   },
   "file_extension": ".py",
   "mimetype": "text/x-python",
   "name": "python",
   "nbconvert_exporter": "python",
   "pygments_lexer": "ipython3",
   "version": "3.8.10"
  },
  "toc": {
   "base_numbering": 1,
   "nav_menu": {},
   "number_sections": true,
   "sideBar": true,
   "skip_h1_title": false,
   "title_cell": "Table of Contents",
   "title_sidebar": "Contents",
   "toc_cell": false,
   "toc_position": {},
   "toc_section_display": true,
   "toc_window_display": false
  },
  "varInspector": {
   "cols": {
    "lenName": 16,
    "lenType": 16,
    "lenVar": 40
   },
   "kernels_config": {
    "python": {
     "delete_cmd_postfix": "",
     "delete_cmd_prefix": "del ",
     "library": "var_list.py",
     "varRefreshCmd": "print(var_dic_list())"
    },
    "r": {
     "delete_cmd_postfix": ") ",
     "delete_cmd_prefix": "rm(",
     "library": "var_list.r",
     "varRefreshCmd": "cat(var_dic_list()) "
    }
   },
   "types_to_exclude": [
    "module",
    "function",
    "builtin_function_or_method",
    "instance",
    "_Feature"
   ],
   "window_display": false
  }
 },
 "nbformat": 4,
 "nbformat_minor": 5
}
