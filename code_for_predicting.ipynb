{
 "cells": [
  {
   "cell_type": "code",
   "execution_count": 3,
   "id": "e42596db",
   "metadata": {
    "ExecuteTime": {
     "end_time": "2022-11-25T23:57:54.292505Z",
     "start_time": "2022-11-25T23:57:54.283160Z"
    }
   },
   "outputs": [],
   "source": [
    "import cv2\n",
    "import os\n",
    "import numpy as np\n",
    "import tensorflow as tf\n",
    "from tensorflow.keras.models import load_model\n",
    "tf.get_logger().setLevel('ERROR')\n",
    "from PIL import Image"
   ]
  },
  {
   "cell_type": "code",
   "execution_count": 9,
   "id": "f41fd753",
   "metadata": {
    "ExecuteTime": {
     "end_time": "2022-11-26T00:04:26.912741Z",
     "start_time": "2022-11-26T00:04:20.464204Z"
    }
   },
   "outputs": [
    {
     "name": "stdout",
     "output_type": "stream",
     "text": [
      "1/1 - 5s - 5s/epoch - 5s/step\n",
      "Predicted: co_man_trau\n"
     ]
    }
   ],
   "source": [
    "def load_and_preprocess_image(pathToImage):\n",
    "    if pathToImage.split('.')[-1] != 'png':\n",
    "        image = Image.open(pathToImage)\n",
    "        image = np.array(image).reshape(image.size[0], image.size[1], 3)\n",
    "    else:\n",
    "        image = tf.io.read_file(pathToImage)\n",
    "        image = tf.image.decode_png(image, channels=3)\n",
    "        image = tf.image.resize(image, (300, 300))\n",
    "    return image\n",
    "\n",
    "def load_file(path):\n",
    "    file = open(path, 'r')\n",
    "    content = file.read()\n",
    "    file.close()\n",
    "    return content\n",
    "\n",
    "# Caution: You need to save the predict image in local first for this to work.\n",
    "# To prevent process from predict picture of one person and send that result to another person,\n",
    "# You should use uuid to get a unique random string, then use that string to save the image.\n",
    "# How to use uuid, I write an example in 'demo_test.ipynb', please check\n",
    "\n",
    "targetImagePath = './images/renamed_train/co_man_trau.45.png' \n",
    "image = [load_and_preprocess_image(targetImagePath)]\n",
    "DS_test = tf.data.Dataset.from_tensor_slices(image)\n",
    "DS_batch_test = DS_test.batch(batch_size=1, drop_remainder=False)\n",
    "\n",
    "model = load_model('model.h5') # or path to model file\n",
    "result = model.predict(DS_batch_test, batch_size=1, verbose=2, max_queue_size=1)\n",
    "\n",
    "classFilePath = 'class_list.txt'\n",
    "content = load_file(classFilePath)\n",
    "classList = content.split(' ')\n",
    "print(f'Predicted: {classList[np.argmax(result)]}')"
   ]
  },
  {
   "cell_type": "code",
   "execution_count": null,
   "id": "fe6a3188",
   "metadata": {},
   "outputs": [],
   "source": []
  }
 ],
 "metadata": {
  "hide_input": false,
  "kernelspec": {
   "display_name": "Python 3 (ipykernel)",
   "language": "python",
   "name": "python3"
  },
  "language_info": {
   "codemirror_mode": {
    "name": "ipython",
    "version": 3
   },
   "file_extension": ".py",
   "mimetype": "text/x-python",
   "name": "python",
   "nbconvert_exporter": "python",
   "pygments_lexer": "ipython3",
   "version": "3.8.10"
  },
  "toc": {
   "base_numbering": 1,
   "nav_menu": {},
   "number_sections": true,
   "sideBar": true,
   "skip_h1_title": false,
   "title_cell": "Table of Contents",
   "title_sidebar": "Contents",
   "toc_cell": false,
   "toc_position": {},
   "toc_section_display": true,
   "toc_window_display": false
  },
  "varInspector": {
   "cols": {
    "lenName": 16,
    "lenType": 16,
    "lenVar": 40
   },
   "kernels_config": {
    "python": {
     "delete_cmd_postfix": "",
     "delete_cmd_prefix": "del ",
     "library": "var_list.py",
     "varRefreshCmd": "print(var_dic_list())"
    },
    "r": {
     "delete_cmd_postfix": ") ",
     "delete_cmd_prefix": "rm(",
     "library": "var_list.r",
     "varRefreshCmd": "cat(var_dic_list()) "
    }
   },
   "types_to_exclude": [
    "module",
    "function",
    "builtin_function_or_method",
    "instance",
    "_Feature"
   ],
   "window_display": false
  }
 },
 "nbformat": 4,
 "nbformat_minor": 5
}
